{
  "cells": [
    {
      "cell_type": "markdown",
      "metadata": {
        "id": "_fPYzbNuw2Sg"
      },
      "source": [
        "## Mark Bowen\n",
        "### Assignment 1 Notebook"
      ]
    },
    {
      "cell_type": "code",
      "execution_count": 1,
      "metadata": {
        "id": "sLf1yvDiGgqL"
      },
      "outputs": [],
      "source": [
        "import numpy as np\n",
        "import matplotlib.pyplot as plt"
      ]
    },
    {
      "cell_type": "markdown",
      "metadata": {
        "id": "n-uXkEHsUyO1"
      },
      "source": [
        "# Assignment 1 (due Sep 23rd at 11:59pm)\n",
        "\n",
        "- If you are not familiar with Python or the libraries used in this class, you can get started by following the [Google's Python Class](https://developers.google.com/edu/python/) and this [Python Numpy Tutorial](https://cs231n.github.io/python-numpy-tutorial/).\n",
        "\n",
        "- This assignment is worth **100 points**.  After completing the solutions you will submit a copy of this notebook (`.ipynb`), including all your answers.\n",
        "\n",
        "- Unless otherwise stated, **loops are not allowed**.  The use of [vectorization](https://www.youtube.com/watch?v=qsIrQi0fzbY) and broacasting ([video 1](https://www.youtube.com/watch?v=tKcLaGdvabM), [video 2](https://www.youtube.com/watch?v=oG1t3qlzq14)) is strongly encouraged for this assignment.  You are free to use any of the tensor libraries (`numpy`, `pytorch`, or `tensorflow`).\n",
        "\n",
        ">  **Important**: Make sure all cells are executed before saving/downloading a copy of the notebook you will submit."
      ]
    },
    {
      "cell_type": "markdown",
      "metadata": {
        "id": "GJLqXw_EU6ip"
      },
      "source": [
        "## Question 1 (10 pts)\n",
        "Create a function that takes an integer $d>0$ as input and **returns a matrix** with the following pattern (hints: `np.tril`, `np.eye`).\n",
        "```\n",
        "$ foo(1)\n",
        "array([[10.]])\n",
        "\n",
        "$ foo(3)\n",
        "array([[ 30.,  30.,  30.],\n",
        "       [-30.,  20.,  30.],\n",
        "       [-30., -30.,  10.]])\n",
        "\n",
        "$ foo(5)\n",
        "array([[ 50.,  50.,  50.,  50.,  50.],\n",
        "       [-50.,  40.,  50.,  50.,  50.],\n",
        "       [-50., -50.,  30.,  50.,  50.],\n",
        "       [-50., -50., -50.,  20.,  50.],\n",
        "       [-50., -50., -50., -50.,  10.]])\n",
        "```"
      ]
    },
    {
      "cell_type": "code",
      "execution_count": 2,
      "metadata": {
        "colab": {
          "base_uri": "https://localhost:8080/"
        },
        "id": "hLMBr3GvU9D6",
        "outputId": "17849647-744c-41fa-eee7-d11ac45ea177"
      },
      "outputs": [
        {
          "data": {
            "text/plain": [
              "array([[ 20,  20],\n",
              "       [-20,  10]])"
            ]
          },
          "execution_count": 2,
          "metadata": {},
          "output_type": "execute_result"
        }
      ],
      "source": [
        "# your answer here\n",
        "\n",
        "def funct1(input):\n",
        "  matrix = np.full((input*input), input*10) # Fill matrix of size nxn with values n*10\n",
        "  matrix = matrix.reshape(input,input) # Reshape matrix to a 5x5 Matrix\n",
        "  decreasing_diagonal = np.array(np.arange(input*10, 0, -10)) # Create array for diagonal that starts at n*10 and decreases by 10 until it the final value is 10\n",
        "  np.fill_diagonal(matrix, decreasing_diagonal) # Fill diagonal with decreasing_diagonal's values\n",
        "  indices_lower = np.tril_indices(input, -1) # Get lower triangle's indices excluding middle diagonal\n",
        "  matrix[indices_lower] = input*-10 # Change values of lower triangle to n*-10\n",
        "  return matrix\n",
        "\n",
        "funct1(2)\n",
        "\n",
        "  "
      ]
    },
    {
      "cell_type": "markdown",
      "metadata": {
        "id": "HD1ynma5keSG"
      },
      "source": [
        "## Question 2 (10 pts)\n",
        "Create a function that takes an integer $d>0$ as input and **returns a matrix** with the following pattern (hints: broadcasting).\n",
        "```\n",
        "foo(1)\n",
        "array([[0]])\n",
        "\n",
        "foo(3)\n",
        "array([[0, 1, 2],\n",
        "       [1, 2, 3],\n",
        "       [2, 3, 4]])\n",
        "\n",
        "foo(7)\n",
        "array([[ 0,  1,  2,  3,  4,  5,  6],\n",
        "       [ 1,  2,  3,  4,  5,  6,  7],\n",
        "       [ 2,  3,  4,  5,  6,  7,  8],\n",
        "       [ 3,  4,  5,  6,  7,  8,  9],\n",
        "       [ 4,  5,  6,  7,  8,  9, 10],\n",
        "       [ 5,  6,  7,  8,  9, 10, 11],\n",
        "       [ 6,  7,  8,  9, 10, 11, 12]])\n",
        "```"
      ]
    },
    {
      "cell_type": "markdown",
      "metadata": {
        "id": "G-aGhGgHxfha"
      },
      "source": [
        "# Answer to Question 2 Below"
      ]
    },
    {
      "cell_type": "code",
      "execution_count": 3,
      "metadata": {
        "colab": {
          "base_uri": "https://localhost:8080/"
        },
        "id": "VR3KYHSpkle7",
        "outputId": "7c61e886-e4b7-4298-831a-0a3a33a103bf"
      },
      "outputs": [
        {
          "data": {
            "text/plain": [
              "array([[ 0,  1,  2,  3,  4,  5,  6],\n",
              "       [ 1,  2,  3,  4,  5,  6,  7],\n",
              "       [ 2,  3,  4,  5,  6,  7,  8],\n",
              "       [ 3,  4,  5,  6,  7,  8,  9],\n",
              "       [ 4,  5,  6,  7,  8,  9, 10],\n",
              "       [ 5,  6,  7,  8,  9, 10, 11],\n",
              "       [ 6,  7,  8,  9, 10, 11, 12]])"
            ]
          },
          "execution_count": 3,
          "metadata": {},
          "output_type": "execute_result"
        }
      ],
      "source": [
        "# your answer here\n",
        "def funct2(input):\n",
        "  matrix = np.array(np.arange(0, input, 1)) # Create first row of matrix up to n (non-inclusive)\n",
        "  matrix = matrix.reshape(1, input) # Reshape it to be 1xn\n",
        "  vector = np.array(np.arange(0, input, 1)) # Create vector to do broadcasting\n",
        "  vector = vector.reshape(input, 1) # Reshape vector to be nx1\n",
        "  matrix = matrix + vector # Broadcast vector and create new axises\n",
        "  return matrix\n",
        "\n",
        "funct2(7)\n",
        "  "
      ]
    },
    {
      "cell_type": "markdown",
      "metadata": {
        "id": "1vFPYU-ZZD7q"
      },
      "source": [
        "## Question 3 (10 pts)\n",
        "Create a function that takes an integer `d>0` as input and **returns a tensor** of shape `(n,n,n)` with the following pattern (hints: `np.repeat` and `np.reshape`).\n",
        "```\n",
        "foo(1)\n",
        "array([[[0]]])\n",
        "\n",
        "foo(3)\n",
        "array([[[ 0,  0,  0],\n",
        "        [ 0,  0,  0],\n",
        "        [ 0,  0,  0]],\n",
        "\n",
        "       [[10, 10, 10],\n",
        "        [10, 10, 10],\n",
        "        [10, 10, 10]],\n",
        "\n",
        "       [[20, 20, 20],\n",
        "        [20, 20, 20],\n",
        "        [20, 20, 20]]])\n",
        "\n",
        "foo(4)\n",
        "array([[[ 0,  0,  0,  0],\n",
        "        [ 0,  0,  0,  0],\n",
        "        [ 0,  0,  0,  0],\n",
        "        [ 0,  0,  0,  0]],\n",
        "\n",
        "       [[10, 10, 10, 10],\n",
        "        [10, 10, 10, 10],\n",
        "        [10, 10, 10, 10],\n",
        "        [10, 10, 10, 10]],\n",
        "\n",
        "       [[20, 20, 20, 20],\n",
        "        [20, 20, 20, 20],\n",
        "        [20, 20, 20, 20],\n",
        "        [20, 20, 20, 20]],\n",
        "\n",
        "       [[30, 30, 30, 30],\n",
        "        [30, 30, 30, 30],\n",
        "        [30, 30, 30, 30],\n",
        "        [30, 30, 30, 30]]])\n",
        "```"
      ]
    },
    {
      "cell_type": "code",
      "execution_count": 4,
      "metadata": {
        "colab": {
          "base_uri": "https://localhost:8080/"
        },
        "id": "Jb6mSzyqZe9T",
        "outputId": "01f73722-344e-40be-e305-fcb5f6cf6caf"
      },
      "outputs": [
        {
          "data": {
            "text/plain": [
              "array([[[ 0,  0,  0,  0],\n",
              "        [ 0,  0,  0,  0],\n",
              "        [ 0,  0,  0,  0],\n",
              "        [ 0,  0,  0,  0]],\n",
              "\n",
              "       [[10, 10, 10, 10],\n",
              "        [10, 10, 10, 10],\n",
              "        [10, 10, 10, 10],\n",
              "        [10, 10, 10, 10]],\n",
              "\n",
              "       [[20, 20, 20, 20],\n",
              "        [20, 20, 20, 20],\n",
              "        [20, 20, 20, 20],\n",
              "        [20, 20, 20, 20]],\n",
              "\n",
              "       [[30, 30, 30, 30],\n",
              "        [30, 30, 30, 30],\n",
              "        [30, 30, 30, 30],\n",
              "        [30, 30, 30, 30]]])"
            ]
          },
          "execution_count": 4,
          "metadata": {},
          "output_type": "execute_result"
        }
      ],
      "source": [
        "# your answer here\n",
        "def funct3(input):\n",
        "  tensor = np.array(np.arange(0, input*10, 10)) # Create initial values for tensor\n",
        "  tensor = np.repeat(tensor, input*input) # Repeat the values nxn times so there are nxn of each value\n",
        "  tensor = tensor.reshape((input, input, input)) # Reshape the tensor so that it has rank n\n",
        "  return tensor\n",
        "\n",
        "funct3(4)\n"
      ]
    },
    {
      "cell_type": "markdown",
      "metadata": {
        "id": "WCLQtfLPlynG"
      },
      "source": [
        "## Question 4 (10 pts)\n",
        "Create a function that takes an integer `n>0` as input and:\n",
        "- generates 2 square matrices `A` and `B` of dimension `n x n` filled with random values from a unit gaussian distribution\n",
        "- computes the matrix multiplication $A\\cdot B$, and records the time it takes to perform the multiplication\n",
        "- **returns** the resulting matrix and the time spent.\n",
        "> hit: use `time.perf_counter` and `random.normal`."
      ]
    },
    {
      "cell_type": "code",
      "execution_count": 5,
      "metadata": {
        "colab": {
          "base_uri": "https://localhost:8080/"
        },
        "id": "W8JARpZDm5I4",
        "outputId": "2aceb54e-e6f2-45ea-83d5-7998f1c2268c"
      },
      "outputs": [
        {
          "data": {
            "text/plain": [
              "(array([[-1.56453733,  3.6858793 ,  0.51020361, -2.37682305],\n",
              "        [-0.29791461, -0.54140423, -0.51850131, -0.38407249],\n",
              "        [ 0.95200324,  2.88359529, -4.05492071,  3.64951692],\n",
              "        [-1.78636307,  6.53809348, -1.702594  , -1.68097681]]),\n",
              " 6.545600000018581e-05)"
            ]
          },
          "execution_count": 5,
          "metadata": {},
          "output_type": "execute_result"
        }
      ],
      "source": [
        "# your answer here\n",
        "from time import perf_counter # import perf_counter from time library \n",
        "\n",
        "def funct4(input):\n",
        "    first_matrix = np.random.normal(size = (input,input)) # Create first square matrix of a values from a Random dist. (Gaussian)\n",
        "    second_matrix = np.random.normal(size = (input, input)) # Create second square matrix of values from a Random dist.\n",
        "    start_time = perf_counter() # Record Start Time\n",
        "    resulting_matrix = np.matmul(first_matrix, second_matrix) # Compute matrix multiplication (not element-wise or dot product) and get matrix product \n",
        "    end_time = perf_counter() # Record End Time\n",
        "    total_time = end_time - start_time # Calculate Total Time\n",
        "    return resulting_matrix, total_time\n",
        "\n",
        "\n",
        "funct4(4)"
      ]
    },
    {
      "cell_type": "markdown",
      "metadata": {
        "id": "ejWkthfFm7eo"
      },
      "source": [
        "## Question 5 (15 pts)\n",
        "Test your function from Exercise 4 with the following values of `n`:\n",
        "```\n",
        "np.linspace(10, 2**12, 2**5, dtype=int)\n",
        "```\n",
        "Use the returned values to create a plot of how the time varies with respect to `n`."
      ]
    },
    {
      "cell_type": "code",
      "execution_count": 6,
      "metadata": {
        "colab": {
          "base_uri": "https://localhost:8080/",
          "height": 283
        },
        "id": "PDJ8HqYJnSwc",
        "outputId": "fb3a6ba1-3dc4-45ad-efe6-bc383047523f"
      },
      "outputs": [
        {
          "data": {
            "text/plain": [
              "[<matplotlib.lines.Line2D at 0x7ff048e06e50>]"
            ]
          },
          "execution_count": 6,
          "metadata": {},
          "output_type": "execute_result"
        },
        {
          "data": {
            "image/png": "[encoded data removed]",
            "text/plain": [
              "<Figure size 432x288 with 1 Axes>"
            ]
          },
          "metadata": {
            "needs_background": "light"
          },
          "output_type": "display_data"
        }
      ],
      "source": [
        "# your answer here\n",
        "n_array = np.linspace(10, 2**12, 2**5, dtype = int) # Create array of values to be used for testing time taken\n",
        "x_values = [] # Array to hold x values for the plot (value of n)\n",
        "y_values = [] # Array to hold y values for the plot (time spent calculating)\n",
        "\n",
        "for n in n_array: # Loop through array to use each value of n\n",
        "  matrix_result, time_spent = funct4(n) # Call function to calculate time spent\n",
        "  x_values.append(n) # Append n to x_values\n",
        "  y_values.append(time_spent) # Append time_spent to y_values\n",
        "\n",
        "plt.plot(x_values, y_values) # Plot the x and y values"
      ]
    },
    {
      "cell_type": "markdown",
      "metadata": {
        "id": "i0yD-5JEEY7J"
      },
      "source": [
        "## Question 6 (10 pts)\n",
        "Create a function that takes two input arrays `x` and `y` and **returns** the following matrix:\n",
        "\n",
        "$$\n",
        "\\vec{x} \\otimes \\vec{y} =\n",
        "\\begin{bmatrix}\n",
        "x_1 y_1 & x_1 y_2 & … & x_1 y_n\\\\\n",
        "x_2 y_1 & x_2 y_2 & … & x_2 y_n\\\\\n",
        "⋮ & ⋮ & ⋱ & ⋮ \\\\\n",
        "x_m y_1 & x_m y_2 & … & x_m y_n\n",
        "\\end{bmatrix}\n",
        "$$"
      ]
    },
    {
      "cell_type": "code",
      "execution_count": 7,
      "metadata": {
        "id": "f6BEqwJi2JAk"
      },
      "outputs": [],
      "source": [
        "# your answer here\n",
        "def funct6(x_array, y_array):\n",
        "  x_array = np.reshape(x_array, (x_array.size, 1)) # Reshape vector to be 1 by its size\n",
        "  y_array = np.reshape(y_array, (1, y_array.size)) # Reshape Vector to be its size by 1\n",
        "  kronecker_matrix = np.kron(x_array, y_array) # Get the Kronecker Product by using np.kron\n",
        "  return kronecker_matrix"
      ]
    },
    {
      "cell_type": "code",
      "execution_count": 8,
      "metadata": {
        "colab": {
          "base_uri": "https://localhost:8080/"
        },
        "id": "U0owgHM6FLbi",
        "outputId": "d415ae77-43d6-46be-cfd2-4828f9aebdd7"
      },
      "outputs": [
        {
          "name": "stdout",
          "output_type": "stream",
          "text": [
            "x: \n",
            " [-92 -76 -33 ... -86  60  48]\n",
            "y: \n",
            " [ 75  24  61 ... -10   8 -16]\n"
          ]
        },
        {
          "data": {
            "text/plain": [
              "array([[-6900, -2208, -5612, ...,   920,  -736,  1472],\n",
              "       [-5700, -1824, -4636, ...,   760,  -608,  1216],\n",
              "       [-2475,  -792, -2013, ...,   330,  -264,   528],\n",
              "       ...,\n",
              "       [-6450, -2064, -5246, ...,   860,  -688,  1376],\n",
              "       [ 4500,  1440,  3660, ...,  -600,   480,  -960],\n",
              "       [ 3600,  1152,  2928, ...,  -480,   384,  -768]])"
            ]
          },
          "execution_count": 8,
          "metadata": {},
          "output_type": "execute_result"
        }
      ],
      "source": [
        "# for the following arrays ...\n",
        "np.random.seed(100)\n",
        "x = np.random.randint(-100, 100, size=10000)\n",
        "print(\"x: \\n\", x)\n",
        "y = np.random.randint(-100, 100, size=10000)\n",
        "print(\"y: \\n\", y)\n",
        "\n",
        "# ... the output should be:\n",
        "# array([[-6900., -2208., -5612., ...,   920.,  -736.,  1472.],\n",
        "#       [-5700., -1824., -4636., ...,   760.,  -608.,  1216.],\n",
        "#       [-2475.,  -792., -2013., ...,   330.,  -264.,   528.],\n",
        "#       ...,\n",
        "#       [-6450., -2064., -5246., ...,   860.,  -688.,  1376.],\n",
        "#       [ 4500.,  1440.,  3660., ...,  -600.,   480.,  -960.],\n",
        "#       [ 3600.,  1152.,  2928., ...,  -480.,   384.,  -768.]])\n",
        "funct6(x, y)"
      ]
    },
    {
      "cell_type": "markdown",
      "metadata": {
        "id": "FX_fDkPuFjt_"
      },
      "source": [
        "## Question 7 (15 pts)\n",
        "Create a function that takes two input arrays `x` and `y` and **returns** the value resulting from:\n",
        "$$\n",
        "f(\\vec{x}, \\vec{y}) = \n",
        "{\n",
        "\\begin{bmatrix}\n",
        "1\\\\\n",
        "1\\\\\n",
        "⋮\\\\\n",
        "1\n",
        "\\end{bmatrix}^{\\;T}\n",
        "%\n",
        "\\begin{bmatrix}\n",
        "x_1 y_1 & x_1 y_2 & … & x_1 y_n\\\\\n",
        "x_2 y_1 & x_2 y_2 & … & x_2 y_n\\\\\n",
        "⋮ & ⋮ & ⋱ & ⋮ \\\\\n",
        "x_m y_1 & x_m y_2 & … & x_m y_n\n",
        "\\end{bmatrix}\n",
        "%\n",
        "\\begin{bmatrix}\n",
        "1\\\\\n",
        "1\\\\\n",
        "⋮\\\\\n",
        "1\n",
        "\\end{bmatrix}\n",
        "} = \n",
        "\\displaystyle\\sum_{i=1}^{n} \\displaystyle\\sum_{j=1}^{n} x_i \\cdot y_j\n",
        "$$"
      ]
    },
    {
      "cell_type": "code",
      "execution_count": 9,
      "metadata": {
        "id": "9jP1lqt_Fq2G"
      },
      "outputs": [],
      "source": [
        "# your answer here\n",
        "def funct7(x_array, y_array):\n",
        "  x_array = np.reshape(x_array, (x_array.size, 1)) # Reshape array\n",
        "  y_array = np.reshape(y_array, (1, y_array.size)) # Reshape Array\n",
        "  kron_matrix = np.kron(x_array, y_array) # Get the Kronecker Matrix \n",
        "  summation = np.sum(kron_matrix) # Get the summation of the elements in the matrix\n",
        "  return summation"
      ]
    },
    {
      "cell_type": "code",
      "execution_count": 10,
      "metadata": {
        "colab": {
          "base_uri": "https://localhost:8080/"
        },
        "id": "YIY2W_LUGI6Q",
        "outputId": "cd341f0d-1561-42f5-c07a-a4c05f650638"
      },
      "outputs": [
        {
          "data": {
            "text/plain": [
              "7842780"
            ]
          },
          "execution_count": 10,
          "metadata": {},
          "output_type": "execute_result"
        }
      ],
      "source": [
        "# for the following arrays ...\n",
        "np.random.seed(100)\n",
        "x = np.random.randint(-10, 10, size=5000)\n",
        "y = np.random.randint(-10, 10, size=5000)\n",
        "\n",
        "funct7(x, y)\n",
        "# ... the output should be:\n",
        "# 7842780"
      ]
    },
    {
      "cell_type": "markdown",
      "metadata": {
        "id": "Zyxfvm7FK2M6"
      },
      "source": [
        "## Question 8 (10 pts)\n",
        "Create a function that takes an input array `x` with `n` elements and **returns** the following matrix:\n",
        "\n",
        "$$\n",
        "A =\n",
        "\\begin{bmatrix}\n",
        "1 & x_1 & x_1^2 & x_1^3 & … & x_1^{n-1}\\\\\n",
        "1 & x_2 & x_2^2 & x_2^3 & … & x_2^{n-1}\\\\\n",
        "⋮ & ⋮ & ⋮ & ⋮ & ⋱ & ⋮ \\\\\n",
        "1 & x_n & x_n^2 & x_n^3 & … & x_n^{n-1}\\\\\n",
        "\\end{bmatrix}\n",
        "$$"
      ]
    },
    {
      "cell_type": "code",
      "execution_count": 11,
      "metadata": {
        "id": "5FjM0cCyLzvk"
      },
      "outputs": [],
      "source": [
        "# your answer here\n",
        "def funct8(x_array):\n",
        "  x_array = x_array.astype(float) # Convert array to from int to float to match output of test case\n",
        "  vandermonde_matrix = np.vander(x_array) # Create Vandermonde matrix using np.vander\n",
        "  flipped_vandermonde = np.flip(vandermonde_matrix, 1) # Flip the matrix horizontally to get required output \n",
        "  return flipped_vandermonde"
      ]
    },
    {
      "cell_type": "code",
      "execution_count": 12,
      "metadata": {
        "colab": {
          "base_uri": "https://localhost:8080/"
        },
        "id": "awe3nlOXLzfc",
        "outputId": "fce429c2-67e3-461d-84cb-f27247c23136"
      },
      "outputs": [
        {
          "data": {
            "text/plain": [
              "array([[1.00000000e+00, 9.00000000e+00, 8.10000000e+01, ...,\n",
              "        2.02755596e+35, 1.82480036e+36, 1.64232033e+37],\n",
              "       [1.00000000e+00, 9.00000000e+00, 8.10000000e+01, ...,\n",
              "        2.02755596e+35, 1.82480036e+36, 1.64232033e+37],\n",
              "       [1.00000000e+00, 4.00000000e+00, 1.60000000e+01, ...,\n",
              "        1.88894659e+22, 7.55578637e+22, 3.02231455e+23],\n",
              "       ...,\n",
              "       [1.00000000e+00, 2.00000000e+00, 4.00000000e+00, ...,\n",
              "        1.37438953e+11, 2.74877907e+11, 5.49755814e+11],\n",
              "       [1.00000000e+00, 1.00000000e+00, 1.00000000e+00, ...,\n",
              "        1.00000000e+00, 1.00000000e+00, 1.00000000e+00],\n",
              "       [1.00000000e+00, 8.00000000e+00, 6.40000000e+01, ...,\n",
              "        2.59614843e+33, 2.07691874e+34, 1.66153499e+35]])"
            ]
          },
          "execution_count": 12,
          "metadata": {},
          "output_type": "execute_result"
        }
      ],
      "source": [
        "# for the following array ...\n",
        "np.random.seed(100)\n",
        "x = np.random.randint(1, 10, size=40)\n",
        "\n",
        "funct8(x)\n",
        "\n",
        "\n",
        "# ... the output should be:\n",
        "# array([[1.00000000e+00, 9.00000000e+00, 8.10000000e+01, ...,\n",
        "#         2.02755596e+35, 1.82480036e+36, 1.64232033e+37],\n",
        "#        [1.00000000e+00, 9.00000000e+00, 8.10000000e+01, ...,\n",
        "#         2.02755596e+35, 1.82480036e+36, 1.64232033e+37],\n",
        "#        [1.00000000e+00, 4.00000000e+00, 1.60000000e+01, ...,\n",
        "#         1.88894659e+22, 7.55578637e+22, 3.02231455e+23],\n",
        "#        ...,\n",
        "#        [1.00000000e+00, 2.00000000e+00, 4.00000000e+00, ...,\n",
        "#         1.37438953e+11, 2.74877907e+11, 5.49755814e+11],\n",
        "#        [1.00000000e+00, 1.00000000e+00, 1.00000000e+00, ...,\n",
        "#         1.00000000e+00, 1.00000000e+00, 1.00000000e+00],\n",
        "#        [1.00000000e+00, 8.00000000e+00, 6.40000000e+01, ...,\n",
        "#         2.59614843e+33, 2.07691874e+34, 1.66153499e+35]])"
      ]
    },
    {
      "cell_type": "markdown",
      "metadata": {
        "id": "nJfEt71-IX5M"
      },
      "source": [
        "## Question 9 (10 pts)\n",
        "Create a function that takes a matrix `X` as input and **returns** its *row-normalized* version, i.e., the sum of elements in each row must be equal to 1.  Assume elements in `X` are non-negative and rows contain at least one non-zero element."
      ]
    },
    {
      "cell_type": "code",
      "execution_count": 13,
      "metadata": {
        "colab": {
          "base_uri": "https://localhost:8080/"
        },
        "id": "rHSAqGtoGUSm",
        "outputId": "240316f8-e61a-434a-e85b-ff04dcf26a66"
      },
      "outputs": [
        {
          "name": "stdout",
          "output_type": "stream",
          "text": [
            "Row Normalized Matrix: \n",
            " [[0.1        0.2        0.3        0.4       ]\n",
            " [0.19230769 0.23076923 0.26923077 0.30769231]\n",
            " [0.21428571 0.23809524 0.26190476 0.28571429]\n",
            " [0.22413793 0.24137931 0.25862069 0.27586207]] \n",
            "\n"
          ]
        },
        {
          "data": {
            "text/plain": [
              "array([1., 1., 1., 1.])"
            ]
          },
          "execution_count": 13,
          "metadata": {},
          "output_type": "execute_result"
        }
      ],
      "source": [
        "# your answer here\n",
        "def funct9(x_matrix):\n",
        "  sum_of_rows = x_matrix.sum(axis = 1) # Get the sum of each row and put it in an array\n",
        "  sum_of_rows = np.reshape(sum_of_rows, (sum_of_rows.size, 1)) # Reshape the array so it can be broadcastable\n",
        "  row_normalized_matrix = x_matrix / sum_of_rows # Row normalize the matrix\n",
        "  return row_normalized_matrix\n",
        "\n",
        "\n",
        "## Test function\n",
        "some_matrix = np.arange(1,17,1)\n",
        "some_matrix = np.reshape(some_matrix, (4, 4))\n",
        "some_matrix = funct9(some_matrix)\n",
        "print(\"Row Normalized Matrix: \\n\", some_matrix, \"\\n\")\n",
        "some_matrix.sum(axis = 1)\n"
      ]
    }
  ],
  "metadata": {
    "colab": {
      "collapsed_sections": [],
      "provenance": []
    },
    "kernelspec": {
      "display_name": "Python 3.8.8",
      "language": "python",
      "name": "python3"
    },
    "language_info": {
      "codemirror_mode": {
        "name": "ipython",
        "version": 3
      },
      "file_extension": ".py",
      "mimetype": "text/x-python",
      "name": "python",
      "nbconvert_exporter": "python",
      "pygments_lexer": "ipython3",
      "version": "3.8.8"
    },
    "vscode": {
      "interpreter": {
        "hash": "da2656c9e6c6bdafe71e1d77f094e6d700f8e721ce962638229309038a08fa06"
      }
    }
  },
  "nbformat": 4,
  "nbformat_minor": 0
}
